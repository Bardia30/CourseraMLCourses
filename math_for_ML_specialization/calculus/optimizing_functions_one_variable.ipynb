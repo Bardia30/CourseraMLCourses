{
 "cells": [
  {
   "cell_type": "markdown",
   "metadata": {},
   "source": [
    "1.1 - Description of the Problem\n",
    "\n",
    "Your Company is aiming to minimize production costs of some goods. During the production process, an essential product P is used, which can be supplied from one of two partners - supplier A and supplier B. Your consultants requested the historical prices of product P from both suppliers A and B, which were provided as monthly averages for the period from February 2018 to March 2020.\n",
    "\n",
    "Preparing Company Budget for the coming twelve months period, your plan is to purchase the same amount of product P monthly. Choosing the supplier, you noticed, that there were some periods in the past, when it would be more profitable to use supplier A (the prices of product P were lower), and other periods to work with supplier B. For the Budget model you can set some percentage of the goods to be purchased from supplier A (e.g. 60%) and the remaining part from supplier B (e.g. 40%), but this split should be kept consistent for the whole of the twelve months period. The Budget will be used in preparation for the contract negotiations with both suppliers.\n",
    "\n",
    "Based on the historical prices, is there a particular percentage which will be more profitable to supply from Company A, and the remaining part from Company B? Or maybe it does not matter and you can work just with one of the suppliers?\n",
    "\n",
    "\n",
    "1.2 - Mathematical Statement of the Problem\n",
    "\n",
    "Denoting prices of the product P from Company A and Company B as $p_A$ (USD) and $p_B$ (USD) respectively, and the volume of the product to be supplied per month as $n$ (units), the total cost in USD is:\n",
    "\n",
    "$$f\\left(\\omega\\right) = p_A \\omega \\,n+ p_B \\left(1 - \\omega\\right) n,$$\n",
    "\n",
    "where $0\\leq\\omega\\leq1$ is the parameter. If $\\omega = 1$, all goods will be supplied from Company A, and if $\\omega = 0$, from Company B. In case of $0<\\omega<1$, some percentage will be allocated to both. \n",
    "\n",
    "As it is planned to keep the volume $n$ constant over the next twelve months, in the mathematical model the common approach is to put $n = 1$. You can do this, because nothing depends on the volume and the end result will be the same. Now the total cost will be simpler:\n",
    "\n",
    "$$f\\left(\\omega\\right) = p_A \\omega+ p_B \\left(1 - \\omega\\right) \\tag{1}$$\n",
    "\n",
    "Obviously, you do not know the future prices $p_A$ and $p_B$, only historical values (prices $\\{p_A^1, \\cdots, p_A^k\\}$ and $\\{p_B^1, \\cdots, p_B^k\\}$ for $k$ months). And historically there were various periods of time when it was better to take $\\omega = 1$ ($p_A^i < p_B^i$) or $\\omega = 0$ ($p_A^i >p_B^i$). Is it possible now to choose some $\\omega$ value that would provide some evidence of minimum costs in the future?\n",
    "\n",
    "\n",
    "1.3 - Solution Approach\n",
    "\n",
    "This is a standard **portfolio management** (investment) problem well known in statistics, where based on the historical prices you need to make investment decision to maximize profit (minimize costs). Since statistics has not been covered in this Course, you do not need to understand the details about the function $\\mathcal{L}\\left(\\omega\\right)$ (called **loss function**) to minimize, explained in the next paragraph.\n",
    "\n",
    "The approach is to calculate $f\\left(\\omega\\right)$ for each of the historical prices $p_A^i$ and $p_B^i$, $f^i\\left(\\omega\\right)=p_A^i \\omega+ p_B^i \\left(1 - \\omega\\right)$. Then take an average of those values, $\\overline{f\\left (\\omega\\right)}=\\text{mean}\\left(f^i\\left(\\omega\\right)\\right) = \\frac{1}{k}\\sum_{i=1}^{k}f^i\\left(\\omega\\right)$ and look for such value of $\\omega$ which makes $f^i\\left(\\omega\\right)$ as \"stable\" as possible - varying as little as possible from the average $\\overline{f\\left (\\omega\\right)}$. This means that you would want to minimize the sum of the differences $\\left(f^i \\left(\\omega\\right) -  \\overline{f\\left (\\omega\\right)}\\right)$. As the differences can be negative or positive, a common approach is to take the squares of those and take an average of the squares:\n",
    "\n",
    "$$\\mathcal{L}\\left(\\omega\\right) = \\frac{1}{k}\\sum_{i=1}^{k}\\left(f^i \\left(\\omega\\right) -  \\overline{f\\left (\\omega\\right)}\\right)^2\\tag{2}$$\n",
    "\n",
    "In statistics $\\mathcal{L}\\left(\\omega\\right)$ is called a variance of $\\{f^1 \\left(\\omega\\right), \\cdots , f^k \\left(\\omega\\right)\\}$. The aim is to minimize the variance $\\mathcal{L}\\left(\\omega\\right)$, where $\\omega\\in\\left[0, 1\\right]$. Again, do not worry if you do not understand deeply why particularly this function $\\mathcal{L}\\left(\\omega\\right)$ was chosen. You might think if it is logical to minimize an average $\\overline{f\\left (\\omega\\right)}$, but [risk management](https://www.thebalancemoney.com/minimum-variance-portfolio-overview-4155796#:~:text=A%20minimum%20variance%20portfolio%20is,other%20out%20when%20held%20together.) theory states that in this problem variance needs to be optimized.\n",
    "\n",
    "Statistical theory shows that there is an $\\omega\\in\\left[0, 1\\right]$ value which minimizes function $\\mathcal{L}\\left(\\omega\\right)$ and it can be found using some properties of the datasets $\\{p_A^1, \\cdots, p_A^k\\}$ and $\\{p_B^1, \\cdots, p_B^k\\}$. However, as this is not a Course about statistics, the example is taken to illustrate an optimization problem of one variable based on some dataset. It is a chance for you to check your understanding and practice this week material. \n",
    "\n",
    "Now let's upload a dataset and explore if it is possible to find a minimum point for the corresponding function $\\mathcal{L}\\left(\\omega\\right)$."
   ]
  },
  {
   "cell_type": "code",
   "execution_count": null,
   "metadata": {},
   "outputs": [],
   "source": [
    "# A function to perform automatic differentiation.\n",
    "from jax import grad\n",
    "# A wrapped version of NumPy to use JAX primitives.\n",
    "import jax.numpy as np\n",
    "# A library for programmatic plot generation.\n",
    "import matplotlib.pyplot as plt\n",
    "# A library for data manipulation and analysis.\n",
    "import pandas as pd\n",
    "\n",
    "# A magic command to make output of plotting commands displayed inline within the Jupyter notebook.\n",
    "%matplotlib inline "
   ]
  },
  {
   "cell_type": "code",
   "execution_count": null,
   "metadata": {},
   "outputs": [],
   "source": [
    "df = pd.read_csv('data/prices.csv')\n",
    "print(df)\n",
    "print(df.columns)\n",
    "df.date"
   ]
  },
  {
   "cell_type": "code",
   "execution_count": null,
   "metadata": {},
   "outputs": [],
   "source": [
    "### START CODE HERE ### (~ 4 lines of code)\n",
    "prices_A = np.array(df['price_supplier_a_dollars_per_item'])\n",
    "prices_B = np.array(df['price_supplier_b_dollars_per_item'])\n",
    "prices_A = np.array(prices_A).astype('float32')\n",
    "prices_B = np.array(prices_B).astype('float32')\n",
    "# ### END CODE HERE ###\n",
    "\n",
    "# Print some elements and mean values of the prices_A and prices_B arrays.\n",
    "print(\"Some prices of supplier A:\", prices_A[0:5])\n",
    "print(\"Some prices of supplier B:\", prices_B[0:5])\n",
    "print(\"Average of the prices, supplier A:\", np.mean(prices_A))\n",
    "print(\"Average of the prices, supplier B:\", np.mean(prices_B))"
   ]
  },
  {
   "cell_type": "code",
   "execution_count": null,
   "metadata": {},
   "outputs": [],
   "source": [
    "fig = plt.figure()\n",
    "ax = fig.add_subplot(1, 1, 1)\n",
    "plt.plot(prices_A, 'g', label=\"Supplier A\")\n",
    "plt.plot(prices_B, 'b', label=\"Supplier B\")\n",
    "plt.legend()\n",
    "\n",
    "plt.show()"
   ]
  },
  {
   "cell_type": "markdown",
   "metadata": {},
   "source": [
    "<a name='ex02'></a>\n",
    "### Exercise 2\n",
    "\n",
    "Calculate `f_of_omega`, corresponding to the $f^i\\left(\\omega\\right)=p_A^i \\omega+ p_B^i \\left(1 - \\omega\\right)$. Prices $\\{p_A^1, \\cdots, p_A^k\\}$ and $\\{p_B^1, \\cdots, p_B^k\\}$ can be passed in the arrays `pA` and `pB`. Thus, multiplying them by the scalars `omega` and `1 - omega` and adding together the resulting arrays, you will get an array containing $\\{f^1\\left(\\omega\\right), \\cdots, f^k\\left(\\omega\\right)\\}$.\n",
    "\n",
    "\n",
    "Then array `f_of_omega` can be taken to calculate `L_of_omega`, according to the expression $(2)$:\n",
    "\n",
    "$$\\mathcal{L}\\left(\\omega\\right) = \\frac{1}{k}\\sum_{i=1}^{k}\\left(f^i \\left(\\omega\\right) -  \\overline{f\\left (\\omega\\right)}\\right)^2$$"
   ]
  },
  {
   "cell_type": "code",
   "execution_count": null,
   "metadata": {},
   "outputs": [],
   "source": [
    "def f_of_omega(omega, pA, pB):\n",
    "    ### START CODE HERE ### (~ 1 line of code)\n",
    "    f = pA*omega + pB*(1-omega)\n",
    "    ### END CODE HERE ###\n",
    "    return f\n",
    "\n",
    "def L_of_omega(omega, pA, pB):\n",
    "    return 1/len(f_of_omega(omega, pA, pB)) * np.sum((f_of_omega(omega, pA, pB) - np.mean(f_of_omega(omega, pA, pB)))**2)\n",
    "\n",
    "\n",
    "print(\"L(omega = 0) =\",L_of_omega(0, prices_A, prices_B))\n",
    "print(\"L(omega = 0.2) =\",L_of_omega(0.2, prices_A, prices_B))\n",
    "print(\"L(omega = 0.8) =\",L_of_omega(0.8, prices_A, prices_B))\n",
    "print(\"L(omega = 1) =\",L_of_omega(1, prices_A, prices_B))"
   ]
  },
  {
   "cell_type": "code",
   "execution_count": null,
   "metadata": {},
   "outputs": [],
   "source": [
    "# Parameter endpoint=True will allow ending point 1 to be included in the array.\n",
    "# This is why it is better to take N = 1001, not N = 1000\n",
    "N = 1001\n",
    "omega_array = np.linspace(0, 1, N, endpoint=True)\n",
    "\n",
    "# This is organized as a function only for grading purposes.\n",
    "def L_of_omega_array(omega_array, pA, pB):\n",
    "    N = len(omega_array)\n",
    "    L_array = np.zeros(N)\n",
    "\n",
    "    for i in range(N):\n",
    "        ### START CODE HERE ### (~ 2 lines of code)\n",
    "        L = L_of_omega(omega_array[i], pA, pB)\n",
    "        L_array = L_array.at[i].set(L)\n",
    "        ### END CODE HERE ###\n",
    "        \n",
    "    return L_array\n",
    "\n",
    "L_array = L_of_omega_array(omega_array, prices_A, prices_B)"
   ]
  },
  {
   "cell_type": "markdown",
   "metadata": {},
   "source": [
    "<a name='ex04'></a>\n",
    "### Exercise 4\n",
    "\n",
    "For each $\\omega$ in the `omega_array` calculate $\\frac{d\\mathcal{L}}{d\\omega}$ using `grad()` function from `JAX` library. Remember that you need to pass the function which you want to differentiate (here $\\mathcal{L}\\left(\\omega\\right)$) as an argument of `grad()` function and then evaluate the derivative for the corresponding element of the `omega_array`. Then pass the result into the corresponding element of the array `dLdOmega_array` with the function `.at[<index>].set(<value>)`."
   ]
  },
  {
   "cell_type": "code",
   "execution_count": null,
   "metadata": {},
   "outputs": [],
   "source": [
    "# This is organised as a function only for grading purposes.\n",
    "def dLdOmega_of_omega_array(omega_array, pA, pB):\n",
    "    N = len(omega_array)\n",
    "    dLdOmega_array = np.zeros(N)\n",
    "\n",
    "    for i in range(N):\n",
    "        ### START CODE HERE ### (~ 2 lines of code)\n",
    "        dLdOmega = grad(L_of_omega)(omega_array[i], pA, pB)\n",
    "        dLdOmega_array = dLdOmega_array.at[i].set(dLdOmega)\n",
    "        ### END CODE HERE ###\n",
    "        \n",
    "    return dLdOmega_array\n",
    "\n",
    "dLdOmega_array = dLdOmega_of_omega_array(omega_array, prices_A, prices_B)"
   ]
  }
 ],
 "metadata": {
  "kernelspec": {
   "display_name": "Python 3",
   "language": "python",
   "name": "python3"
  },
  "language_info": {
   "codemirror_mode": {
    "name": "ipython",
    "version": 3
   },
   "file_extension": ".py",
   "mimetype": "text/x-python",
   "name": "python",
   "nbconvert_exporter": "python",
   "pygments_lexer": "ipython3",
   "version": "3.12.0"
  }
 },
 "nbformat": 4,
 "nbformat_minor": 2
}

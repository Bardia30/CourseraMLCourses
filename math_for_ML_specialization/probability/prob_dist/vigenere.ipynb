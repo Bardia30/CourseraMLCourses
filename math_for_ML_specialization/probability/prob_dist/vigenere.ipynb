{
 "cells": [
  {
   "cell_type": "code",
   "execution_count": 5,
   "metadata": {},
   "outputs": [
    {
     "name": "stdout",
     "output_type": "stream",
     "text": [
      "vmhimzbbpozje\n"
     ]
    }
   ],
   "source": [
    "# Creates the base Alphabet which is used for finding preceeding characters from the ciphertext.\n",
    "baseAlphabet = ('a', 'b', 'c', 'd', 'e', 'f', 'g', 'h', 'i', 'j', 'k', 'l', 'm', 'n', 'o', \n",
    "'p', 'q', 'r', 's', 't', 'u', 'v', 'w', 'x', 'y', 'z')\n",
    "\n",
    "plainText = input(\"Please enter the plain text\").lower()\n",
    "key = input(\"Please enter the key word\").lower()\n",
    "keyList = []\n",
    "keyLength = 0\n",
    "while keyLength < len(plainText):\n",
    "    # Adds the users entered key into a list character by character. \n",
    "    # Also makes the key the same length as plainText\n",
    "    for char in key:\n",
    "        if keyLength < len(plainText):\n",
    "            keyList.append(str(char))\n",
    "            keyLength = keyLength + 1\n",
    "\n",
    "# The variable each processed letter is appended to\n",
    "completeCipherText = [] \n",
    "# This is the value used to temporaily store the ciphertext character during the iteration\n",
    "cipherCharIndexValue = 0\n",
    "keyIncrement = 0\n",
    "\n",
    "# Iterates through the plain text\n",
    "for plainTextChar in plainText:\n",
    "        # Adds the base alphabets index value of the key and the plain text char\n",
    "        cipherCharIndexValue = baseAlphabet.index(keyList[keyIncrement]) + baseAlphabet.index(plainTextChar)\n",
    "        while cipherCharIndexValue > 25:\n",
    "             # makes the addition value under 26 as to not go out of range of base alphabet tuple\n",
    "            cipherCharIndexValue = cipherCharIndexValue - 26 \n",
    "         # appends the ciphertext character to the completeCipherText variable. \n",
    "         # The character is the index of the key + index of the       plainTextChar from baseAlphabet\n",
    "        completeCipherText.append(baseAlphabet[cipherCharIndexValue])\n",
    "         # Moves onto the next key\n",
    "        keyIncrement = keyIncrement + 1\n",
    "print(''.join(completeCipherText)) # Makes the result a strings for printing to the console.                                  "
   ]
  },
  {
   "cell_type": "code",
   "execution_count": null,
   "metadata": {},
   "outputs": [],
   "source": []
  }
 ],
 "metadata": {
  "kernelspec": {
   "display_name": "Python 3",
   "language": "python",
   "name": "python3"
  },
  "language_info": {
   "codemirror_mode": {
    "name": "ipython",
    "version": 3
   },
   "file_extension": ".py",
   "mimetype": "text/x-python",
   "name": "python",
   "nbconvert_exporter": "python",
   "pygments_lexer": "ipython3",
   "version": "3.12.0"
  }
 },
 "nbformat": 4,
 "nbformat_minor": 2
}

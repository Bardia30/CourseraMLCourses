{
 "cells": [
  {
   "cell_type": "code",
   "execution_count": 1,
   "metadata": {},
   "outputs": [],
   "source": [
    "import numpy as np"
   ]
  },
  {
   "cell_type": "code",
   "execution_count": 2,
   "metadata": {},
   "outputs": [
    {
     "name": "stdout",
     "output_type": "stream",
     "text": [
      "[10 12]\n"
     ]
    }
   ],
   "source": [
    "one_dimensional_arr = np.array([10, 12])\n",
    "print(one_dimensional_arr)"
   ]
  },
  {
   "cell_type": "code",
   "execution_count": 3,
   "metadata": {},
   "outputs": [
    {
     "name": "stdout",
     "output_type": "stream",
     "text": [
      "[1 2 3]\n"
     ]
    }
   ],
   "source": [
    "# Create and print a NumPy array 'a' containing the elements 1, 2, 3.\n",
    "a = np.array([1, 2, 3])\n",
    "print(a)"
   ]
  },
  {
   "cell_type": "code",
   "execution_count": 4,
   "metadata": {},
   "outputs": [
    {
     "name": "stdout",
     "output_type": "stream",
     "text": [
      "[0 1 2]\n"
     ]
    }
   ],
   "source": [
    "# Create an array with 3 integers, starting from the default integer 0.\n",
    "b = np.arange(3)\n",
    "print(b)"
   ]
  },
  {
   "cell_type": "code",
   "execution_count": 5,
   "metadata": {},
   "outputs": [
    {
     "name": "stdout",
     "output_type": "stream",
     "text": [
      "[ 1  4  7 10 13 16 19]\n"
     ]
    }
   ],
   "source": [
    "# Create an array that starts from the integer 1, ends at 20, incremented by 3.\n",
    "c = np.arange(1, 20, 3)\n",
    "print(c)"
   ]
  },
  {
   "cell_type": "markdown",
   "metadata": {},
   "source": [
    "What if you wanted to create an array with five evenly spaced values in the interval from 0 to 100? As you may notice, you have 3 parameters that a function must take. One paremeter is the starting number, in this case 0, the final number 100 and the number of elements in the array, in this case, 5. NumPy has a function that allows you to do specifically this by using np.linspace().\n"
   ]
  },
  {
   "cell_type": "code",
   "execution_count": 6,
   "metadata": {},
   "outputs": [
    {
     "name": "stdout",
     "output_type": "stream",
     "text": [
      "[  0.  25.  50.  75. 100.]\n"
     ]
    }
   ],
   "source": [
    "lin_spaced_arr = np.linspace(0, 100, 5)\n",
    "print(lin_spaced_arr)"
   ]
  },
  {
   "cell_type": "code",
   "execution_count": 7,
   "metadata": {},
   "outputs": [
    {
     "name": "stdout",
     "output_type": "stream",
     "text": [
      "[  0  25  50  75 100]\n",
      "[ 1  4  7 10 13 16 19]\n",
      "[0. 1. 2.]\n",
      "['Welcome to Math for ML!']\n",
      "<U23\n"
     ]
    }
   ],
   "source": [
    "lin_spaced_arr_int = np.linspace(0, 100, 5, dtype=int)\n",
    "print(lin_spaced_arr_int)\n",
    "c_int = np.arange(1, 20, 3, dtype=int)\n",
    "print(c_int)\n",
    "b_float = np.arange(3, dtype=float)\n",
    "print(b_float)\n",
    "char_arr = np.array(['Welcome to Math for ML!'])\n",
    "print(char_arr)\n",
    "print(char_arr.dtype) # Prints the data type of the array"
   ]
  },
  {
   "cell_type": "markdown",
   "metadata": {},
   "source": [
    "<a name='1-4'></a>\n",
    "## 1.4 - More on NumPy arrays ##\n",
    "\n",
    "One of the advantages of using NumPy is that you can easily create arrays with built-in functions such as: \n",
    "- `np.ones()` - Returns a new array setting values to one.\n",
    "- `np.zeros()` - Returns a new array setting values to zero.\n",
    "- `np.empty()` - Returns a new uninitialized array. \n",
    "- `np.random.rand()` - Returns a new array with values chosen at random."
   ]
  },
  {
   "cell_type": "code",
   "execution_count": 8,
   "metadata": {},
   "outputs": [
    {
     "name": "stdout",
     "output_type": "stream",
     "text": [
      "[[1 2 3]\n",
      " [4 5 6]]\n"
     ]
    }
   ],
   "source": [
    "# Create a 2 dimensional array (2-D)\n",
    "two_dim_arr = np.array([[1,2,3], [4,5,6]])\n",
    "print(two_dim_arr)"
   ]
  },
  {
   "cell_type": "code",
   "execution_count": 9,
   "metadata": {},
   "outputs": [
    {
     "name": "stdout",
     "output_type": "stream",
     "text": [
      "[[1 2 3]\n",
      " [4 5 6]]\n"
     ]
    }
   ],
   "source": [
    "# 1-D array \n",
    "one_dim_arr = np.array([1, 2, 3, 4, 5, 6])\n",
    "\n",
    "# Multidimensional array using reshape()\n",
    "multi_dim_arr = np.reshape(\n",
    "                one_dim_arr, # the array to be reshaped\n",
    "               (2,3) # dimensions of the new array\n",
    "              )\n",
    "# Print the new 2-D array with two rows and three columns\n",
    "print(multi_dim_arr)"
   ]
  },
  {
   "cell_type": "code",
   "execution_count": 10,
   "metadata": {},
   "outputs": [
    {
     "data": {
      "text/plain": [
       "2"
      ]
     },
     "execution_count": 10,
     "metadata": {},
     "output_type": "execute_result"
    }
   ],
   "source": [
    "# Dimension of the 2-D array multi_dim_arr\n",
    "multi_dim_arr.ndim"
   ]
  },
  {
   "cell_type": "code",
   "execution_count": 11,
   "metadata": {},
   "outputs": [
    {
     "data": {
      "text/plain": [
       "(2, 3)"
      ]
     },
     "execution_count": 11,
     "metadata": {},
     "output_type": "execute_result"
    }
   ],
   "source": [
    "# Shape of the 2-D array multi_dim_arr\n",
    "# Returns shape of 2 rows and 3 columns\n",
    "multi_dim_arr.shape"
   ]
  },
  {
   "cell_type": "code",
   "execution_count": 12,
   "metadata": {},
   "outputs": [
    {
     "data": {
      "text/plain": [
       "6"
      ]
     },
     "execution_count": 12,
     "metadata": {},
     "output_type": "execute_result"
    }
   ],
   "source": [
    "# Size of the array multi_dim_arr\n",
    "# Returns total number of elements\n",
    "multi_dim_arr.size"
   ]
  },
  {
   "cell_type": "code",
   "execution_count": null,
   "metadata": {},
   "outputs": [],
   "source": []
  }
 ],
 "metadata": {
  "kernelspec": {
   "display_name": "Python 3",
   "language": "python",
   "name": "python3"
  },
  "language_info": {
   "codemirror_mode": {
    "name": "ipython",
    "version": 3
   },
   "file_extension": ".py",
   "mimetype": "text/x-python",
   "name": "python",
   "nbconvert_exporter": "python",
   "pygments_lexer": "ipython3",
   "version": "3.12.0"
  }
 },
 "nbformat": 4,
 "nbformat_minor": 2
}
